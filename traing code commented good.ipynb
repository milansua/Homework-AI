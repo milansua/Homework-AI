{
  "cells": [
    {
      "cell_type": "markdown",
      "id": "119ae8e0",
      "metadata": {
        "id": "119ae8e0"
      },
      "source": [
        "# 🚀 Deep Neural Network Training on Excel Data (PyTorch + Colab + GPU)"
      ]
    },
    {
      "cell_type": "code",
      "execution_count": 48,
      "id": "bc24e84c",
      "metadata": {
        "id": "bc24e84c"
      },
      "outputs": [],
      "source": [
        "!pip install -q openpyxl pandas scikit-learn torch matplotlib"
      ]
    },
    {
      "cell_type": "code",
      "source": [
        "%load_ext tensorboard\n",
        "%tensorboard --logdir=runs\n"
      ],
      "metadata": {
        "id": "RmLEMvSbeolM"
      },
      "id": "RmLEMvSbeolM",
      "execution_count": null,
      "outputs": []
    },
    {
      "cell_type": "code",
      "execution_count": null,
      "id": "e4ca9080",
      "metadata": {
        "colab": {
          "base_uri": "https://localhost:8080/",
          "height": 36
        },
        "id": "e4ca9080",
        "outputId": "7f8dbfb3-fdac-46d4-c766-5acdbdb4cc74"
      },
      "outputs": [
        {
          "output_type": "display_data",
          "data": {
            "text/plain": [
              "<IPython.core.display.HTML object>"
            ],
            "text/html": [
              "\n",
              "     <input type=\"file\" id=\"files-a0d6d961-0392-4864-a68b-3425c5b9b0f4\" name=\"files[]\" multiple disabled\n",
              "        style=\"border:none\" />\n",
              "     <output id=\"result-a0d6d961-0392-4864-a68b-3425c5b9b0f4\">\n",
              "      Upload widget is only available when the cell has been executed in the\n",
              "      current browser session. Please rerun this cell to enable.\n",
              "      </output>\n",
              "      <script>// Copyright 2017 Google LLC\n",
              "//\n",
              "// Licensed under the Apache License, Version 2.0 (the \"License\");\n",
              "// you may not use this file except in compliance with the License.\n",
              "// You may obtain a copy of the License at\n",
              "//\n",
              "//      http://www.apache.org/licenses/LICENSE-2.0\n",
              "//\n",
              "// Unless required by applicable law or agreed to in writing, software\n",
              "// distributed under the License is distributed on an \"AS IS\" BASIS,\n",
              "// WITHOUT WARRANTIES OR CONDITIONS OF ANY KIND, either express or implied.\n",
              "// See the License for the specific language governing permissions and\n",
              "// limitations under the License.\n",
              "\n",
              "/**\n",
              " * @fileoverview Helpers for google.colab Python module.\n",
              " */\n",
              "(function(scope) {\n",
              "function span(text, styleAttributes = {}) {\n",
              "  const element = document.createElement('span');\n",
              "  element.textContent = text;\n",
              "  for (const key of Object.keys(styleAttributes)) {\n",
              "    element.style[key] = styleAttributes[key];\n",
              "  }\n",
              "  return element;\n",
              "}\n",
              "\n",
              "// Max number of bytes which will be uploaded at a time.\n",
              "const MAX_PAYLOAD_SIZE = 100 * 1024;\n",
              "\n",
              "function _uploadFiles(inputId, outputId) {\n",
              "  const steps = uploadFilesStep(inputId, outputId);\n",
              "  const outputElement = document.getElementById(outputId);\n",
              "  // Cache steps on the outputElement to make it available for the next call\n",
              "  // to uploadFilesContinue from Python.\n",
              "  outputElement.steps = steps;\n",
              "\n",
              "  return _uploadFilesContinue(outputId);\n",
              "}\n",
              "\n",
              "// This is roughly an async generator (not supported in the browser yet),\n",
              "// where there are multiple asynchronous steps and the Python side is going\n",
              "// to poll for completion of each step.\n",
              "// This uses a Promise to block the python side on completion of each step,\n",
              "// then passes the result of the previous step as the input to the next step.\n",
              "function _uploadFilesContinue(outputId) {\n",
              "  const outputElement = document.getElementById(outputId);\n",
              "  const steps = outputElement.steps;\n",
              "\n",
              "  const next = steps.next(outputElement.lastPromiseValue);\n",
              "  return Promise.resolve(next.value.promise).then((value) => {\n",
              "    // Cache the last promise value to make it available to the next\n",
              "    // step of the generator.\n",
              "    outputElement.lastPromiseValue = value;\n",
              "    return next.value.response;\n",
              "  });\n",
              "}\n",
              "\n",
              "/**\n",
              " * Generator function which is called between each async step of the upload\n",
              " * process.\n",
              " * @param {string} inputId Element ID of the input file picker element.\n",
              " * @param {string} outputId Element ID of the output display.\n",
              " * @return {!Iterable<!Object>} Iterable of next steps.\n",
              " */\n",
              "function* uploadFilesStep(inputId, outputId) {\n",
              "  const inputElement = document.getElementById(inputId);\n",
              "  inputElement.disabled = false;\n",
              "\n",
              "  const outputElement = document.getElementById(outputId);\n",
              "  outputElement.innerHTML = '';\n",
              "\n",
              "  const pickedPromise = new Promise((resolve) => {\n",
              "    inputElement.addEventListener('change', (e) => {\n",
              "      resolve(e.target.files);\n",
              "    });\n",
              "  });\n",
              "\n",
              "  const cancel = document.createElement('button');\n",
              "  inputElement.parentElement.appendChild(cancel);\n",
              "  cancel.textContent = 'Cancel upload';\n",
              "  const cancelPromise = new Promise((resolve) => {\n",
              "    cancel.onclick = () => {\n",
              "      resolve(null);\n",
              "    };\n",
              "  });\n",
              "\n",
              "  // Wait for the user to pick the files.\n",
              "  const files = yield {\n",
              "    promise: Promise.race([pickedPromise, cancelPromise]),\n",
              "    response: {\n",
              "      action: 'starting',\n",
              "    }\n",
              "  };\n",
              "\n",
              "  cancel.remove();\n",
              "\n",
              "  // Disable the input element since further picks are not allowed.\n",
              "  inputElement.disabled = true;\n",
              "\n",
              "  if (!files) {\n",
              "    return {\n",
              "      response: {\n",
              "        action: 'complete',\n",
              "      }\n",
              "    };\n",
              "  }\n",
              "\n",
              "  for (const file of files) {\n",
              "    const li = document.createElement('li');\n",
              "    li.append(span(file.name, {fontWeight: 'bold'}));\n",
              "    li.append(span(\n",
              "        `(${file.type || 'n/a'}) - ${file.size} bytes, ` +\n",
              "        `last modified: ${\n",
              "            file.lastModifiedDate ? file.lastModifiedDate.toLocaleDateString() :\n",
              "                                    'n/a'} - `));\n",
              "    const percent = span('0% done');\n",
              "    li.appendChild(percent);\n",
              "\n",
              "    outputElement.appendChild(li);\n",
              "\n",
              "    const fileDataPromise = new Promise((resolve) => {\n",
              "      const reader = new FileReader();\n",
              "      reader.onload = (e) => {\n",
              "        resolve(e.target.result);\n",
              "      };\n",
              "      reader.readAsArrayBuffer(file);\n",
              "    });\n",
              "    // Wait for the data to be ready.\n",
              "    let fileData = yield {\n",
              "      promise: fileDataPromise,\n",
              "      response: {\n",
              "        action: 'continue',\n",
              "      }\n",
              "    };\n",
              "\n",
              "    // Use a chunked sending to avoid message size limits. See b/62115660.\n",
              "    let position = 0;\n",
              "    do {\n",
              "      const length = Math.min(fileData.byteLength - position, MAX_PAYLOAD_SIZE);\n",
              "      const chunk = new Uint8Array(fileData, position, length);\n",
              "      position += length;\n",
              "\n",
              "      const base64 = btoa(String.fromCharCode.apply(null, chunk));\n",
              "      yield {\n",
              "        response: {\n",
              "          action: 'append',\n",
              "          file: file.name,\n",
              "          data: base64,\n",
              "        },\n",
              "      };\n",
              "\n",
              "      let percentDone = fileData.byteLength === 0 ?\n",
              "          100 :\n",
              "          Math.round((position / fileData.byteLength) * 100);\n",
              "      percent.textContent = `${percentDone}% done`;\n",
              "\n",
              "    } while (position < fileData.byteLength);\n",
              "  }\n",
              "\n",
              "  // All done.\n",
              "  yield {\n",
              "    response: {\n",
              "      action: 'complete',\n",
              "    }\n",
              "  };\n",
              "}\n",
              "\n",
              "scope.google = scope.google || {};\n",
              "scope.google.colab = scope.google.colab || {};\n",
              "scope.google.colab._files = {\n",
              "  _uploadFiles,\n",
              "  _uploadFilesContinue,\n",
              "};\n",
              "})(self);\n",
              "</script> "
            ]
          },
          "metadata": {}
        }
      ],
      "source": [
        "from google.colab import files\n",
        "uploaded = files.upload()"
      ]
    },
    {
      "cell_type": "code",
      "execution_count": null,
      "id": "f51c40d4",
      "metadata": {
        "id": "f51c40d4"
      },
      "outputs": [],
      "source": [
        "# Load and prepare data\n",
        "data = pd.read_excel(\"merged_sheetsHW2.xlsx\")\n",
        "X = data.iloc[:, [1, 2, 3]].replace('#', -1)\n",
        "y = data.iloc[:, 4].replace('#', -1)\n",
        "\n",
        "X = X.apply(pd.to_numeric, errors='coerce').fillna(-1)\n",
        "y = pd.to_numeric(y, errors='coerce').fillna(-1)\n",
        "\n",
        "# ✅ Remap labels for classification model\n",
        "y = y.replace({-1: 0, 0: 1, 1: 2, 2: 3})\n"
      ]
    },
    {
      "cell_type": "markdown",
      "source": [
        "***Using the dataset’s second, third, and fourth columns as input to predict the label in the fifth column***"
      ],
      "metadata": {
        "id": "tokIhH0j1IUQ"
      },
      "id": "tokIhH0j1IUQ"
    },
    {
      "cell_type": "code",
      "execution_count": null,
      "id": "7b415828",
      "metadata": {
        "id": "7b415828"
      },
      "outputs": [],
      "source": [
        "import numpy as np\n",
        "import torch\n",
        "\n",
        "# Replace '#' with a numeric placeholder  -1 in selected columns\n",
        "X = data.iloc[:, [1, 2, 3]].replace('#', -1)\n",
        "y = data.iloc[:, 4].replace('#', -1)\n",
        "\n",
        "# Convert to numeric safely\n",
        "X = X.apply(pd.to_numeric, errors='coerce').fillna(-1)\n",
        "y = pd.to_numeric(y, errors='coerce').fillna(-1)\n",
        "\n",
        "# Convert to tensors\n",
        "X_tensor = torch.tensor(X.values, dtype=torch.float32)\n",
        "y_tensor = torch.tensor(y.values, dtype=torch.float32).view(-1, 1)\n"
      ]
    },
    {
      "cell_type": "markdown",
      "source": [
        "***ALLOCATING  90% for training and 10% for testing***\n",
        "\n",
        "\n"
      ],
      "metadata": {
        "id": "qTG54K2i0UGe"
      },
      "id": "qTG54K2i0UGe"
    },
    {
      "cell_type": "code",
      "execution_count": 52,
      "id": "e3351b64",
      "metadata": {
        "id": "e3351b64"
      },
      "outputs": [],
      "source": [
        "X_train, X_test, y_train, y_test = train_test_split(X, y, test_size=0.1, random_state=42)"
      ]
    },
    {
      "cell_type": "code",
      "execution_count": 53,
      "id": "75aaf027",
      "metadata": {
        "id": "75aaf027"
      },
      "outputs": [],
      "source": [
        "# After you split into train/test and have tensors: X_tensor, y_tensor\n",
        "from sklearn.model_selection import train_test_split\n",
        "\n",
        "X_train, X_test, y_train, y_test = train_test_split(\n",
        "    X_tensor, y_tensor, test_size=0.1, random_state=42\n",
        ")\n",
        "\n",
        "# ✅ Now moving tensors to GPU if available\n",
        "X_train, X_test = X_train.to(device), X_test.to(device)\n",
        "y_train, y_test = y_train.to(device), y_test.to(device)\n"
      ]
    },
    {
      "cell_type": "markdown",
      "source": [
        "***Implementing deep neural network with 5 layers.***"
      ],
      "metadata": {
        "id": "ox-_r2jl0n13"
      },
      "id": "ox-_r2jl0n13"
    },
    {
      "cell_type": "code",
      "execution_count": 54,
      "id": "f1e92748",
      "metadata": {
        "id": "f1e92748"
      },
      "outputs": [],
      "source": [
        "import torch.nn as nn\n",
        "import torch.optim as optim\n",
        "\n",
        "class DeepNN(nn.Module):\n",
        "    def __init__(self):\n",
        "        super(DeepNN, self).__init__()\n",
        "        self.net = nn.Sequential(\n",
        "            nn.Linear(3, 64), nn.ReLU(),\n",
        "            nn.Linear(64, 128), nn.ReLU(),\n",
        "            nn.Linear(128, 64), nn.ReLU(),\n",
        "            nn.Linear(64, 32), nn.ReLU(),\n",
        "          nn.Linear(32, 4)\n",
        "        )\n",
        "    def forward(self, x): return self.net(x)\n",
        "\n",
        "model = DeepNN().to(device)\n",
        "criterion = nn.MSELoss()\n",
        "optimizer = optim.Adam(model.parameters(), lr=0.001)"
      ]
    },
    {
      "cell_type": "code",
      "execution_count": null,
      "id": "bb3eb3fb",
      "metadata": {
        "id": "bb3eb3fb"
      },
      "outputs": [],
      "source": [
        "losses = [] #the epoch is set up at 10 and visualitazion every 10\n",
        "epochs = 100\n",
        "for epoch in range(epochs):\n",
        "    model.train()\n",
        "    optimizer.zero_grad()\n",
        "    output = model(X_train)\n",
        "    loss = criterion(output, y_train)\n",
        "    loss.backward()\n",
        "    optimizer.step()\n",
        "    losses.append(loss.item())\n",
        "    if (epoch + 1) % 10 == 0:\n",
        "        print(f\"Epoch {epoch+1}/{epochs}, Loss: {loss.item():.4f}\")"
      ]
    },
    {
      "cell_type": "code",
      "execution_count": null,
      "id": "ddb653c2",
      "metadata": {
        "id": "ddb653c2"
      },
      "outputs": [],
      "source": [
        "import matplotlib.pyplot as plt #to plot a training loss vs epoch graph\n",
        "plt.plot(losses)\n",
        "plt.title(\"Training Loss\")\n",
        "plt.xlabel(\"Epoch\")\n",
        "plt.ylabel(\"Loss\")\n",
        "plt.grid(True)\n",
        "plt.show()"
      ]
    },
    {
      "cell_type": "code",
      "execution_count": 57,
      "id": "9d3df227",
      "metadata": {
        "colab": {
          "base_uri": "https://localhost:8080/"
        },
        "id": "9d3df227",
        "outputId": "60c6e435-9310-4a92-903f-b0dd97b880b5"
      },
      "outputs": [
        {
          "output_type": "stream",
          "name": "stdout",
          "text": [
            "\n",
            "🔍 Final Test Loss: 0.3157\n"
          ]
        },
        {
          "output_type": "stream",
          "name": "stderr",
          "text": [
            "/usr/local/lib/python3.11/dist-packages/torch/nn/modules/loss.py:610: UserWarning: Using a target size (torch.Size([1806, 1])) that is different to the input size (torch.Size([1806, 4])). This will likely lead to incorrect results due to broadcasting. Please ensure they have the same size.\n",
            "  return F.mse_loss(input, target, reduction=self.reduction)\n"
          ]
        }
      ],
      "source": [
        "model.eval() #checking the test loss\n",
        "with torch.no_grad():\n",
        "    test_preds = model(X_test)\n",
        "    test_loss = criterion(test_preds, y_test)\n",
        "print(f\"\\n🔍 Final Test Loss: {test_loss.item():.4f}\")"
      ]
    },
    {
      "cell_type": "code",
      "execution_count": 58,
      "id": "938446a4",
      "metadata": {
        "colab": {
          "base_uri": "https://localhost:8080/",
          "height": 541
        },
        "id": "938446a4",
        "outputId": "95d66acd-74ef-488b-9025-25fa6601bbc6"
      },
      "outputs": [
        {
          "output_type": "stream",
          "name": "stdout",
          "text": [
            "✅ Test Accuracy: 22.43%\n"
          ]
        },
        {
          "output_type": "display_data",
          "data": {
            "text/plain": [
              "<Figure size 600x600 with 0 Axes>"
            ]
          },
          "metadata": {}
        },
        {
          "output_type": "stream",
          "name": "stderr",
          "text": [
            "/usr/local/lib/python3.11/dist-packages/IPython/core/pylabtools.py:151: UserWarning: Glyph 128269 (\\N{LEFT-POINTING MAGNIFYING GLASS}) missing from font(s) DejaVu Sans.\n",
            "  fig.canvas.print_figure(bytes_io, **kw)\n"
          ]
        },
        {
          "output_type": "display_data",
          "data": {
            "text/plain": [
              "<Figure size 640x480 with 2 Axes>"
            ],
            "image/png": "[encoded data removed]"
          },
          "metadata": {}
        }
      ],
      "source": [
        "import torch\n",
        "from sklearn.metrics import confusion_matrix, ConfusionMatrixDisplay, accuracy_score\n",
        "import matplotlib.pyplot as plt\n",
        "\n",
        "# ✅ Predict on the test set\n",
        "with torch.no_grad():\n",
        "    logits = model(X_test)\n",
        "    test_preds = torch.argmax(logits, dim=1)\n",
        "\n",
        "# ✅ Convert predictions and labels to CPU numpy arrays\n",
        "y_true = y_test.cpu().numpy()\n",
        "y_pred = test_preds.cpu().numpy()\n",
        "\n",
        "# ✅ Calculate and display accuracy\n",
        "acc = accuracy_score(y_true, y_pred)\n",
        "print(f\"✅ Test Accuracy: {acc * 100:.2f}%\")\n",
        "\n",
        "# ✅ Plot confusion matrix\n",
        "labels = [-1, 0, 1, 2]  # Adjust based on your classes\n",
        "\n",
        "cm = confusion_matrix(y_true, y_pred, labels=labels)\n",
        "disp = ConfusionMatrixDisplay(confusion_matrix=cm, display_labels=labels)\n",
        "\n",
        "plt.figure(figsize=(6, 6))\n",
        "disp.plot(cmap=plt.cm.Blues, values_format='d')\n",
        "plt.title(\"🔍 Confusion Matrix\")\n",
        "plt.grid(False)\n",
        "plt.show()\n"
      ]
    },
    {
      "cell_type": "code",
      "source": [
        "from torch.utils.tensorboard import SummaryWriter\n",
        "\n",
        "writer = SummaryWriter()\n",
        "\n",
        "# During training loop\n",
        "writer.add_scalar(\"Loss/train\", loss.item(), epoch)\n",
        "writer.add_scalar(\"Accuracy/train\", acc, epoch)\n",
        "\n",
        "# After training\n",
        "writer.close()\n"
      ],
      "metadata": {
        "id": "p-O9jHLmd8Ux"
      },
      "id": "p-O9jHLmd8Ux",
      "execution_count": 59,
      "outputs": []
    },
    {
      "cell_type": "code",
      "source": [
        "%load_ext tensorboard\n",
        "%tensorboard --logdir=runs\n"
      ],
      "metadata": {
        "id": "ByQ7SLXOe9zz"
      },
      "id": "ByQ7SLXOe9zz",
      "execution_count": null,
      "outputs": []
    },
    {
      "cell_type": "code",
      "source": [
        "# Save only the model weights (recommended for reloading into same architecture)\n",
        "torch.save(model.state_dict(), \"deep_nn_model.pt\")\n",
        "\n",
        "# Save the full model (architecture + weights)\n",
        "torch.save(model, \"deep_nn_model.pth\")\n",
        "\n",
        "print(\"✅ Model saved as 'deep_nn_model.pt' and 'deep_nn_model.pth'\")\n"
      ],
      "metadata": {
        "colab": {
          "base_uri": "https://localhost:8080/"
        },
        "id": "xqjImm_LTSA9",
        "outputId": "1dd263c8-70d5-4667-d49b-a8b47fa4c410"
      },
      "id": "xqjImm_LTSA9",
      "execution_count": 44,
      "outputs": [
        {
          "output_type": "stream",
          "name": "stdout",
          "text": [
            "✅ Model saved as 'deep_nn_model.pt' and 'deep_nn_model.pth'\n"
          ]
        }
      ]
    }
  ],
  "metadata": {
    "colab": {
      "provenance": []
    },
    "language_info": {
      "name": "python"
    },
    "kernelspec": {
      "name": "python3",
      "display_name": "Python 3"
    }
  },
  "nbformat": 4,
  "nbformat_minor": 5
}